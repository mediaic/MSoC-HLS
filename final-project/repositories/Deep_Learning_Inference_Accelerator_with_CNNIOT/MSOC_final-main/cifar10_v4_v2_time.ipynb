{
 "cells": [
  {
   "cell_type": "code",
   "execution_count": 1,
   "metadata": {},
   "outputs": [
    {
     "data": {
      "application/javascript": [
       "\n",
       "require(['notebook/js/codecell'], function(codecell) {\n",
       "  codecell.CodeCell.options_default.highlight_modes[\n",
       "      'magic_text/x-csrc'] = {'reg':[/^%%microblaze/]};\n",
       "  Jupyter.notebook.events.one('kernel_ready.Kernel', function(){\n",
       "      Jupyter.notebook.get_cells().map(function(cell){\n",
       "          if (cell.cell_type == 'code'){ cell.auto_highlight(); } }) ;\n",
       "  });\n",
       "});\n"
      ]
     },
     "metadata": {},
     "output_type": "display_data"
    },
    {
     "name": "stderr",
     "output_type": "stream",
     "text": [
      "/usr/local/lib/python3.6/dist-packages/pynq/pl_server/device.py:594: UserWarning: Users will not get PARAMETERS / REGISTERS information through TCL files. HWH file is recommended.\n",
      "  warnings.warn(message, UserWarning)\n",
      "/usr/local/lib/python3.6/dist-packages/pynq/lib/dma.py:200: UserWarning: Failed to find parameter c_sg_length_width; users should really use *.hwh files for overlays.\n",
      "  warnings.warn(message, UserWarning)\n"
     ]
    }
   ],
   "source": [
    "import time\n",
    "import numpy as np\n",
    "import CNNIOT"
   ]
  },
  {
   "cell_type": "code",
   "execution_count": 2,
   "metadata": {},
   "outputs": [],
   "source": [
    "conv1_weight=np.load('cifar10_weights_v2/conv1.weight.npy')\n",
    "conv1_bias=np.load('cifar10_weights_v2/conv1.bias.npy')\n",
    "conv2_weight=np.load('cifar10_weights_v2/conv2.weight.npy')\n",
    "conv2_bias=np.load('cifar10_weights_v2/conv2.bias.npy')\n",
    "conv3_weight=np.load('cifar10_weights_v2/conv3.weight.npy')\n",
    "conv3_bias=np.load('cifar10_weights_v2/conv3.bias.npy')\n",
    "conv4_weight=np.load('cifar10_weights_v2/conv4.weight.npy')\n",
    "conv4_bias=np.load('cifar10_weights_v2/conv4.bias.npy')\n",
    "fc1_weight=np.load('cifar10_weights_v2/fc1.weight.npy')\n",
    "fc1_bias=np.load('cifar10_weights_v2/fc1.bias.npy')\n",
    "fc2_weight=np.load('cifar10_weights_v2/fc2.weight.npy')\n",
    "fc2_bias=np.load('cifar10_weights_v2/fc2.bias.npy')\n",
    "fc3_weight=np.load('cifar10_weights_v2/fc3.weight.npy')\n",
    "fc3_bias=np.load('cifar10_weights_v2/fc3.bias.npy')\n"
   ]
  },
  {
   "cell_type": "code",
   "execution_count": 3,
   "metadata": {},
   "outputs": [],
   "source": [
    "conv1=CNNIOT.Convolution2D(3,6,3,3,1,1,0,1,conv1_weight,conv1_bias,1000000)\n",
    "pool=CNNIOT.Pool(2,2,2,2,'Max',0,0,1000000)\n",
    "conv2=CNNIOT.Convolution2D(6,10,3,3,1,1,0,1,conv2_weight,conv2_bias,1000000)\n",
    "conv3=CNNIOT.Convolution2D(10,16,3,3,1,1,0,1,conv3_weight,conv3_bias,1000000)\n",
    "conv4=CNNIOT.Convolution2D(16,20,3,3,1,1,0,1,conv4_weight,conv4_bias,1000000)\n",
    "fc1=CNNIOT.FC(500,120,1,fc1_weight,fc1_bias)\n",
    "fc2=CNNIOT.FC(120,84,1,fc2_weight,fc2_bias)\n",
    "fc3=CNNIOT.FC(84,10,1,fc3_weight,fc3_bias)"
   ]
  },
  {
   "cell_type": "code",
   "execution_count": 4,
   "metadata": {},
   "outputs": [
    {
     "name": "stdout",
     "output_type": "stream",
     "text": [
      "(32, 3, 32, 32)\n"
     ]
    }
   ],
   "source": [
    "data = np.load('imgs.npy')\n",
    "print(data.shape)"
   ]
  },
  {
   "cell_type": "code",
   "execution_count": 6,
   "metadata": {},
   "outputs": [
    {
     "name": "stdout",
     "output_type": "stream",
     "text": [
      "Inference Time 0.4770176410675049\n"
     ]
    }
   ],
   "source": [
    "t1 = time.time()\n",
    "x = conv1.forward(data[0],CNNIOT.dma)\n",
    "x = conv2.forward(x,CNNIOT.dma)\n",
    "x = pool.forward(x,CNNIOT.dma)\n",
    "x = conv3.forward(x,CNNIOT.dma)\n",
    "x = conv4.forward(x,CNNIOT.dma)\n",
    "x = pool.forward(x,CNNIOT.dma)\n",
    "\n",
    "x = np.reshape(x,(-1, 500))\n",
    "\n",
    "x = fc1.forward(x,CNNIOT.dma)\n",
    "x = fc2.forward(x,CNNIOT.dma)\n",
    "x = fc3.forward(x,CNNIOT.dma)\n",
    "t2=time.time()\n",
    "print('Inference Time',t2-t1)   \n"
   ]
  },
  {
   "cell_type": "code",
   "execution_count": null,
   "metadata": {},
   "outputs": [],
   "source": []
  }
 ],
 "metadata": {
  "kernelspec": {
   "display_name": "Python 3",
   "language": "python",
   "name": "python3"
  },
  "language_info": {
   "codemirror_mode": {
    "name": "ipython",
    "version": 3
   },
   "file_extension": ".py",
   "mimetype": "text/x-python",
   "name": "python",
   "nbconvert_exporter": "python",
   "pygments_lexer": "ipython3",
   "version": "3.6.5"
  }
 },
 "nbformat": 4,
 "nbformat_minor": 2
}
